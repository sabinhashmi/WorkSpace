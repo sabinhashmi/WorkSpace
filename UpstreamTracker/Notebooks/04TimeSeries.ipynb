{
 "cells": [
  {
   "cell_type": "code",
   "execution_count": 1,
   "metadata": {},
   "outputs": [
    {
     "data": {
      "text/html": [
       "<div>\n",
       "<style scoped>\n",
       "    .dataframe tbody tr th:only-of-type {\n",
       "        vertical-align: middle;\n",
       "    }\n",
       "\n",
       "    .dataframe tbody tr th {\n",
       "        vertical-align: top;\n",
       "    }\n",
       "\n",
       "    .dataframe thead th {\n",
       "        text-align: right;\n",
       "    }\n",
       "</style>\n",
       "<table border=\"1\" class=\"dataframe\">\n",
       "  <thead>\n",
       "    <tr style=\"text-align: right;\">\n",
       "      <th></th>\n",
       "      <th>Run1_UTaX</th>\n",
       "      <th>Run1_UTaU</th>\n",
       "      <th>Run1_UTbV</th>\n",
       "      <th>Run1_UTbX</th>\n",
       "      <th>Run2_UTaX</th>\n",
       "      <th>Run2_UTaU</th>\n",
       "      <th>Run2_UTbV</th>\n",
       "      <th>Run2_UTbX</th>\n",
       "      <th>Run3_UTaX</th>\n",
       "      <th>Run3_UTaU</th>\n",
       "      <th>...</th>\n",
       "      <th>Run6_UTbV</th>\n",
       "      <th>Run6_UTbX</th>\n",
       "      <th>Run7_UTaX</th>\n",
       "      <th>Run7_UTaU</th>\n",
       "      <th>Run7_UTbV</th>\n",
       "      <th>Run7_UTbX</th>\n",
       "      <th>Run8_UTaX</th>\n",
       "      <th>Run8_UTaU</th>\n",
       "      <th>Run8_UTbV</th>\n",
       "      <th>Run8_UTbX</th>\n",
       "    </tr>\n",
       "  </thead>\n",
       "  <tbody>\n",
       "    <tr>\n",
       "      <th>1</th>\n",
       "      <td>0.000830</td>\n",
       "      <td>0.000854</td>\n",
       "      <td>0.001180</td>\n",
       "      <td>0.000964</td>\n",
       "      <td>0.000820</td>\n",
       "      <td>0.001136</td>\n",
       "      <td>0.001239</td>\n",
       "      <td>0.000579</td>\n",
       "      <td>0.000917</td>\n",
       "      <td>0.000961</td>\n",
       "      <td>...</td>\n",
       "      <td>0.001163</td>\n",
       "      <td>0.000673</td>\n",
       "      <td>0.000828</td>\n",
       "      <td>0.001288</td>\n",
       "      <td>0.001332</td>\n",
       "      <td>0.000616</td>\n",
       "      <td>0.017624</td>\n",
       "      <td>0.008705</td>\n",
       "      <td>0.023592</td>\n",
       "      <td>0.005205</td>\n",
       "    </tr>\n",
       "    <tr>\n",
       "      <th>2</th>\n",
       "      <td>0.001120</td>\n",
       "      <td>0.001073</td>\n",
       "      <td>0.001012</td>\n",
       "      <td>0.001018</td>\n",
       "      <td>0.000858</td>\n",
       "      <td>0.000792</td>\n",
       "      <td>0.000765</td>\n",
       "      <td>0.000698</td>\n",
       "      <td>0.000453</td>\n",
       "      <td>0.000512</td>\n",
       "      <td>...</td>\n",
       "      <td>0.001257</td>\n",
       "      <td>0.001176</td>\n",
       "      <td>0.001188</td>\n",
       "      <td>0.000891</td>\n",
       "      <td>0.000927</td>\n",
       "      <td>0.001111</td>\n",
       "      <td>0.001028</td>\n",
       "      <td>0.000625</td>\n",
       "      <td>0.001259</td>\n",
       "      <td>0.000974</td>\n",
       "    </tr>\n",
       "    <tr>\n",
       "      <th>3</th>\n",
       "      <td>0.001319</td>\n",
       "      <td>0.001247</td>\n",
       "      <td>0.001201</td>\n",
       "      <td>0.001419</td>\n",
       "      <td>0.000795</td>\n",
       "      <td>0.000714</td>\n",
       "      <td>0.000530</td>\n",
       "      <td>0.000652</td>\n",
       "      <td>0.000653</td>\n",
       "      <td>0.000574</td>\n",
       "      <td>...</td>\n",
       "      <td>0.001197</td>\n",
       "      <td>0.001306</td>\n",
       "      <td>0.001004</td>\n",
       "      <td>0.000877</td>\n",
       "      <td>0.000954</td>\n",
       "      <td>0.000942</td>\n",
       "      <td>0.000870</td>\n",
       "      <td>0.000897</td>\n",
       "      <td>0.000797</td>\n",
       "      <td>0.000606</td>\n",
       "    </tr>\n",
       "    <tr>\n",
       "      <th>4</th>\n",
       "      <td>0.001427</td>\n",
       "      <td>0.001167</td>\n",
       "      <td>0.001213</td>\n",
       "      <td>0.001691</td>\n",
       "      <td>0.000779</td>\n",
       "      <td>0.000728</td>\n",
       "      <td>0.000524</td>\n",
       "      <td>0.000774</td>\n",
       "      <td>0.000595</td>\n",
       "      <td>0.000649</td>\n",
       "      <td>...</td>\n",
       "      <td>0.001137</td>\n",
       "      <td>0.001741</td>\n",
       "      <td>0.001174</td>\n",
       "      <td>0.000888</td>\n",
       "      <td>0.000863</td>\n",
       "      <td>0.001119</td>\n",
       "      <td>0.000940</td>\n",
       "      <td>0.000610</td>\n",
       "      <td>0.000872</td>\n",
       "      <td>0.000992</td>\n",
       "    </tr>\n",
       "    <tr>\n",
       "      <th>5</th>\n",
       "      <td>0.001667</td>\n",
       "      <td>0.001625</td>\n",
       "      <td>0.001622</td>\n",
       "      <td>0.001623</td>\n",
       "      <td>0.000535</td>\n",
       "      <td>0.000627</td>\n",
       "      <td>0.000698</td>\n",
       "      <td>0.000875</td>\n",
       "      <td>0.000400</td>\n",
       "      <td>0.000429</td>\n",
       "      <td>...</td>\n",
       "      <td>0.001508</td>\n",
       "      <td>0.001611</td>\n",
       "      <td>0.000964</td>\n",
       "      <td>0.000853</td>\n",
       "      <td>0.000872</td>\n",
       "      <td>0.001215</td>\n",
       "      <td>0.000553</td>\n",
       "      <td>0.000632</td>\n",
       "      <td>0.000819</td>\n",
       "      <td>0.001659</td>\n",
       "    </tr>\n",
       "    <tr>\n",
       "      <th>6</th>\n",
       "      <td>0.001269</td>\n",
       "      <td>0.001200</td>\n",
       "      <td>0.001119</td>\n",
       "      <td>0.018724</td>\n",
       "      <td>0.000663</td>\n",
       "      <td>0.000670</td>\n",
       "      <td>0.000719</td>\n",
       "      <td>0.000725</td>\n",
       "      <td>0.000558</td>\n",
       "      <td>0.000567</td>\n",
       "      <td>...</td>\n",
       "      <td>0.001197</td>\n",
       "      <td>0.001256</td>\n",
       "      <td>0.000912</td>\n",
       "      <td>0.000913</td>\n",
       "      <td>0.000959</td>\n",
       "      <td>0.000984</td>\n",
       "      <td>0.000490</td>\n",
       "      <td>0.001039</td>\n",
       "      <td>0.000725</td>\n",
       "      <td>0.000744</td>\n",
       "    </tr>\n",
       "    <tr>\n",
       "      <th>7</th>\n",
       "      <td>0.001673</td>\n",
       "      <td>0.001090</td>\n",
       "      <td>0.001105</td>\n",
       "      <td>0.001546</td>\n",
       "      <td>0.000717</td>\n",
       "      <td>0.000673</td>\n",
       "      <td>0.000536</td>\n",
       "      <td>0.000688</td>\n",
       "      <td>0.000572</td>\n",
       "      <td>0.000744</td>\n",
       "      <td>...</td>\n",
       "      <td>0.001171</td>\n",
       "      <td>0.001583</td>\n",
       "      <td>0.001260</td>\n",
       "      <td>0.001029</td>\n",
       "      <td>0.000875</td>\n",
       "      <td>0.001320</td>\n",
       "      <td>0.003172</td>\n",
       "      <td>0.000857</td>\n",
       "      <td>0.000871</td>\n",
       "      <td>0.001987</td>\n",
       "    </tr>\n",
       "    <tr>\n",
       "      <th>8</th>\n",
       "      <td>0.000998</td>\n",
       "      <td>0.001199</td>\n",
       "      <td>0.001500</td>\n",
       "      <td>0.001451</td>\n",
       "      <td>0.000975</td>\n",
       "      <td>0.001383</td>\n",
       "      <td>0.000601</td>\n",
       "      <td>0.000636</td>\n",
       "      <td>0.000889</td>\n",
       "      <td>0.001110</td>\n",
       "      <td>...</td>\n",
       "      <td>0.001340</td>\n",
       "      <td>0.001217</td>\n",
       "      <td>0.000962</td>\n",
       "      <td>0.001453</td>\n",
       "      <td>0.000969</td>\n",
       "      <td>0.001040</td>\n",
       "      <td>0.002038</td>\n",
       "      <td>0.027168</td>\n",
       "      <td>0.000650</td>\n",
       "      <td>0.000475</td>\n",
       "    </tr>\n",
       "    <tr>\n",
       "      <th>9</th>\n",
       "      <td>0.000910</td>\n",
       "      <td>0.000933</td>\n",
       "      <td>0.001102</td>\n",
       "      <td>0.001043</td>\n",
       "      <td>0.000655</td>\n",
       "      <td>0.001054</td>\n",
       "      <td>0.001241</td>\n",
       "      <td>0.001030</td>\n",
       "      <td>0.000741</td>\n",
       "      <td>0.000890</td>\n",
       "      <td>...</td>\n",
       "      <td>0.001460</td>\n",
       "      <td>0.001139</td>\n",
       "      <td>0.000737</td>\n",
       "      <td>0.001280</td>\n",
       "      <td>0.001322</td>\n",
       "      <td>0.001005</td>\n",
       "      <td>0.011611</td>\n",
       "      <td>0.023990</td>\n",
       "      <td>0.038758</td>\n",
       "      <td>0.020343</td>\n",
       "    </tr>\n",
       "    <tr>\n",
       "      <th>10</th>\n",
       "      <td>0.001309</td>\n",
       "      <td>0.001170</td>\n",
       "      <td>0.000832</td>\n",
       "      <td>0.000865</td>\n",
       "      <td>0.000835</td>\n",
       "      <td>0.000689</td>\n",
       "      <td>0.001048</td>\n",
       "      <td>0.000653</td>\n",
       "      <td>0.000577</td>\n",
       "      <td>0.000533</td>\n",
       "      <td>...</td>\n",
       "      <td>0.001360</td>\n",
       "      <td>0.000686</td>\n",
       "      <td>0.000962</td>\n",
       "      <td>0.000921</td>\n",
       "      <td>0.001340</td>\n",
       "      <td>0.000727</td>\n",
       "      <td>0.000329</td>\n",
       "      <td>0.000554</td>\n",
       "      <td>0.022216</td>\n",
       "      <td>0.208594</td>\n",
       "    </tr>\n",
       "    <tr>\n",
       "      <th>11</th>\n",
       "      <td>0.001417</td>\n",
       "      <td>0.001390</td>\n",
       "      <td>0.001069</td>\n",
       "      <td>0.001160</td>\n",
       "      <td>0.000784</td>\n",
       "      <td>0.000674</td>\n",
       "      <td>0.000734</td>\n",
       "      <td>0.000855</td>\n",
       "      <td>0.000748</td>\n",
       "      <td>0.000523</td>\n",
       "      <td>...</td>\n",
       "      <td>0.001337</td>\n",
       "      <td>0.001438</td>\n",
       "      <td>0.001176</td>\n",
       "      <td>0.001033</td>\n",
       "      <td>0.000941</td>\n",
       "      <td>0.001048</td>\n",
       "      <td>0.000340</td>\n",
       "      <td>0.000632</td>\n",
       "      <td>0.001399</td>\n",
       "      <td>0.000263</td>\n",
       "    </tr>\n",
       "    <tr>\n",
       "      <th>12</th>\n",
       "      <td>0.001907</td>\n",
       "      <td>0.001237</td>\n",
       "      <td>0.001593</td>\n",
       "      <td>0.001855</td>\n",
       "      <td>0.000925</td>\n",
       "      <td>0.000791</td>\n",
       "      <td>0.000744</td>\n",
       "      <td>0.000774</td>\n",
       "      <td>0.000623</td>\n",
       "      <td>0.000688</td>\n",
       "      <td>...</td>\n",
       "      <td>0.001520</td>\n",
       "      <td>0.001954</td>\n",
       "      <td>0.001374</td>\n",
       "      <td>0.000918</td>\n",
       "      <td>0.001061</td>\n",
       "      <td>0.001201</td>\n",
       "      <td>0.000416</td>\n",
       "      <td>0.000513</td>\n",
       "      <td>0.000743</td>\n",
       "      <td>0.000385</td>\n",
       "    </tr>\n",
       "    <tr>\n",
       "      <th>13</th>\n",
       "      <td>0.001779</td>\n",
       "      <td>0.001601</td>\n",
       "      <td>0.001381</td>\n",
       "      <td>0.001595</td>\n",
       "      <td>0.000832</td>\n",
       "      <td>0.000699</td>\n",
       "      <td>0.000690</td>\n",
       "      <td>0.000860</td>\n",
       "      <td>0.000442</td>\n",
       "      <td>0.000514</td>\n",
       "      <td>...</td>\n",
       "      <td>0.001370</td>\n",
       "      <td>0.001678</td>\n",
       "      <td>0.001339</td>\n",
       "      <td>0.001135</td>\n",
       "      <td>0.001016</td>\n",
       "      <td>0.001379</td>\n",
       "      <td>0.000238</td>\n",
       "      <td>0.000754</td>\n",
       "      <td>0.000931</td>\n",
       "      <td>0.000335</td>\n",
       "    </tr>\n",
       "    <tr>\n",
       "      <th>14</th>\n",
       "      <td>0.001300</td>\n",
       "      <td>0.001456</td>\n",
       "      <td>0.001900</td>\n",
       "      <td>0.001725</td>\n",
       "      <td>0.000701</td>\n",
       "      <td>0.000702</td>\n",
       "      <td>0.000713</td>\n",
       "      <td>0.000714</td>\n",
       "      <td>0.000695</td>\n",
       "      <td>0.000698</td>\n",
       "      <td>...</td>\n",
       "      <td>0.001760</td>\n",
       "      <td>0.001502</td>\n",
       "      <td>0.001100</td>\n",
       "      <td>0.001000</td>\n",
       "      <td>0.001234</td>\n",
       "      <td>0.001221</td>\n",
       "      <td>0.000341</td>\n",
       "      <td>0.000322</td>\n",
       "      <td>0.001603</td>\n",
       "      <td>0.000949</td>\n",
       "    </tr>\n",
       "    <tr>\n",
       "      <th>15</th>\n",
       "      <td>0.001895</td>\n",
       "      <td>0.001247</td>\n",
       "      <td>0.001167</td>\n",
       "      <td>0.001752</td>\n",
       "      <td>0.000908</td>\n",
       "      <td>0.000758</td>\n",
       "      <td>0.000619</td>\n",
       "      <td>0.000729</td>\n",
       "      <td>0.000711</td>\n",
       "      <td>0.000924</td>\n",
       "      <td>...</td>\n",
       "      <td>0.001139</td>\n",
       "      <td>0.001808</td>\n",
       "      <td>0.001193</td>\n",
       "      <td>0.000947</td>\n",
       "      <td>0.001121</td>\n",
       "      <td>0.001219</td>\n",
       "      <td>0.000270</td>\n",
       "      <td>0.001065</td>\n",
       "      <td>0.001275</td>\n",
       "      <td>0.000460</td>\n",
       "    </tr>\n",
       "    <tr>\n",
       "      <th>16</th>\n",
       "      <td>0.001035</td>\n",
       "      <td>0.001035</td>\n",
       "      <td>0.001309</td>\n",
       "      <td>0.001745</td>\n",
       "      <td>0.001035</td>\n",
       "      <td>0.001035</td>\n",
       "      <td>0.000753</td>\n",
       "      <td>0.000780</td>\n",
       "      <td>0.001035</td>\n",
       "      <td>0.001035</td>\n",
       "      <td>...</td>\n",
       "      <td>0.001294</td>\n",
       "      <td>0.001791</td>\n",
       "      <td>0.001035</td>\n",
       "      <td>0.001035</td>\n",
       "      <td>0.000988</td>\n",
       "      <td>0.001351</td>\n",
       "      <td>0.001035</td>\n",
       "      <td>0.001035</td>\n",
       "      <td>0.002343</td>\n",
       "      <td>0.000454</td>\n",
       "    </tr>\n",
       "    <tr>\n",
       "      <th>17</th>\n",
       "      <td>0.001035</td>\n",
       "      <td>0.001035</td>\n",
       "      <td>0.001962</td>\n",
       "      <td>0.001573</td>\n",
       "      <td>0.001035</td>\n",
       "      <td>0.001035</td>\n",
       "      <td>0.000869</td>\n",
       "      <td>0.000880</td>\n",
       "      <td>0.001035</td>\n",
       "      <td>0.001035</td>\n",
       "      <td>...</td>\n",
       "      <td>0.001759</td>\n",
       "      <td>0.001494</td>\n",
       "      <td>0.001035</td>\n",
       "      <td>0.001035</td>\n",
       "      <td>0.001061</td>\n",
       "      <td>0.001228</td>\n",
       "      <td>0.001035</td>\n",
       "      <td>0.001035</td>\n",
       "      <td>0.001851</td>\n",
       "      <td>0.001603</td>\n",
       "    </tr>\n",
       "    <tr>\n",
       "      <th>18</th>\n",
       "      <td>0.001035</td>\n",
       "      <td>0.001035</td>\n",
       "      <td>0.001035</td>\n",
       "      <td>0.001035</td>\n",
       "      <td>0.001035</td>\n",
       "      <td>0.001035</td>\n",
       "      <td>0.001035</td>\n",
       "      <td>0.001035</td>\n",
       "      <td>0.001035</td>\n",
       "      <td>0.001035</td>\n",
       "      <td>...</td>\n",
       "      <td>0.001035</td>\n",
       "      <td>0.001035</td>\n",
       "      <td>0.001035</td>\n",
       "      <td>0.001035</td>\n",
       "      <td>0.001035</td>\n",
       "      <td>0.001035</td>\n",
       "      <td>0.001035</td>\n",
       "      <td>0.001035</td>\n",
       "      <td>0.001035</td>\n",
       "      <td>0.001035</td>\n",
       "    </tr>\n",
       "  </tbody>\n",
       "</table>\n",
       "<p>18 rows × 32 columns</p>\n",
       "</div>"
      ],
      "text/plain": [
       "    Run1_UTaX  Run1_UTaU  Run1_UTbV  Run1_UTbX  Run2_UTaX  Run2_UTaU  \\\n",
       "1    0.000830   0.000854   0.001180   0.000964   0.000820   0.001136   \n",
       "2    0.001120   0.001073   0.001012   0.001018   0.000858   0.000792   \n",
       "3    0.001319   0.001247   0.001201   0.001419   0.000795   0.000714   \n",
       "4    0.001427   0.001167   0.001213   0.001691   0.000779   0.000728   \n",
       "5    0.001667   0.001625   0.001622   0.001623   0.000535   0.000627   \n",
       "6    0.001269   0.001200   0.001119   0.018724   0.000663   0.000670   \n",
       "7    0.001673   0.001090   0.001105   0.001546   0.000717   0.000673   \n",
       "8    0.000998   0.001199   0.001500   0.001451   0.000975   0.001383   \n",
       "9    0.000910   0.000933   0.001102   0.001043   0.000655   0.001054   \n",
       "10   0.001309   0.001170   0.000832   0.000865   0.000835   0.000689   \n",
       "11   0.001417   0.001390   0.001069   0.001160   0.000784   0.000674   \n",
       "12   0.001907   0.001237   0.001593   0.001855   0.000925   0.000791   \n",
       "13   0.001779   0.001601   0.001381   0.001595   0.000832   0.000699   \n",
       "14   0.001300   0.001456   0.001900   0.001725   0.000701   0.000702   \n",
       "15   0.001895   0.001247   0.001167   0.001752   0.000908   0.000758   \n",
       "16   0.001035   0.001035   0.001309   0.001745   0.001035   0.001035   \n",
       "17   0.001035   0.001035   0.001962   0.001573   0.001035   0.001035   \n",
       "18   0.001035   0.001035   0.001035   0.001035   0.001035   0.001035   \n",
       "\n",
       "    Run2_UTbV  Run2_UTbX  Run3_UTaX  Run3_UTaU  ...  Run6_UTbV  Run6_UTbX  \\\n",
       "1    0.001239   0.000579   0.000917   0.000961  ...   0.001163   0.000673   \n",
       "2    0.000765   0.000698   0.000453   0.000512  ...   0.001257   0.001176   \n",
       "3    0.000530   0.000652   0.000653   0.000574  ...   0.001197   0.001306   \n",
       "4    0.000524   0.000774   0.000595   0.000649  ...   0.001137   0.001741   \n",
       "5    0.000698   0.000875   0.000400   0.000429  ...   0.001508   0.001611   \n",
       "6    0.000719   0.000725   0.000558   0.000567  ...   0.001197   0.001256   \n",
       "7    0.000536   0.000688   0.000572   0.000744  ...   0.001171   0.001583   \n",
       "8    0.000601   0.000636   0.000889   0.001110  ...   0.001340   0.001217   \n",
       "9    0.001241   0.001030   0.000741   0.000890  ...   0.001460   0.001139   \n",
       "10   0.001048   0.000653   0.000577   0.000533  ...   0.001360   0.000686   \n",
       "11   0.000734   0.000855   0.000748   0.000523  ...   0.001337   0.001438   \n",
       "12   0.000744   0.000774   0.000623   0.000688  ...   0.001520   0.001954   \n",
       "13   0.000690   0.000860   0.000442   0.000514  ...   0.001370   0.001678   \n",
       "14   0.000713   0.000714   0.000695   0.000698  ...   0.001760   0.001502   \n",
       "15   0.000619   0.000729   0.000711   0.000924  ...   0.001139   0.001808   \n",
       "16   0.000753   0.000780   0.001035   0.001035  ...   0.001294   0.001791   \n",
       "17   0.000869   0.000880   0.001035   0.001035  ...   0.001759   0.001494   \n",
       "18   0.001035   0.001035   0.001035   0.001035  ...   0.001035   0.001035   \n",
       "\n",
       "    Run7_UTaX  Run7_UTaU  Run7_UTbV  Run7_UTbX  Run8_UTaX  Run8_UTaU  \\\n",
       "1    0.000828   0.001288   0.001332   0.000616   0.017624   0.008705   \n",
       "2    0.001188   0.000891   0.000927   0.001111   0.001028   0.000625   \n",
       "3    0.001004   0.000877   0.000954   0.000942   0.000870   0.000897   \n",
       "4    0.001174   0.000888   0.000863   0.001119   0.000940   0.000610   \n",
       "5    0.000964   0.000853   0.000872   0.001215   0.000553   0.000632   \n",
       "6    0.000912   0.000913   0.000959   0.000984   0.000490   0.001039   \n",
       "7    0.001260   0.001029   0.000875   0.001320   0.003172   0.000857   \n",
       "8    0.000962   0.001453   0.000969   0.001040   0.002038   0.027168   \n",
       "9    0.000737   0.001280   0.001322   0.001005   0.011611   0.023990   \n",
       "10   0.000962   0.000921   0.001340   0.000727   0.000329   0.000554   \n",
       "11   0.001176   0.001033   0.000941   0.001048   0.000340   0.000632   \n",
       "12   0.001374   0.000918   0.001061   0.001201   0.000416   0.000513   \n",
       "13   0.001339   0.001135   0.001016   0.001379   0.000238   0.000754   \n",
       "14   0.001100   0.001000   0.001234   0.001221   0.000341   0.000322   \n",
       "15   0.001193   0.000947   0.001121   0.001219   0.000270   0.001065   \n",
       "16   0.001035   0.001035   0.000988   0.001351   0.001035   0.001035   \n",
       "17   0.001035   0.001035   0.001061   0.001228   0.001035   0.001035   \n",
       "18   0.001035   0.001035   0.001035   0.001035   0.001035   0.001035   \n",
       "\n",
       "    Run8_UTbV  Run8_UTbX  \n",
       "1    0.023592   0.005205  \n",
       "2    0.001259   0.000974  \n",
       "3    0.000797   0.000606  \n",
       "4    0.000872   0.000992  \n",
       "5    0.000819   0.001659  \n",
       "6    0.000725   0.000744  \n",
       "7    0.000871   0.001987  \n",
       "8    0.000650   0.000475  \n",
       "9    0.038758   0.020343  \n",
       "10   0.022216   0.208594  \n",
       "11   0.001399   0.000263  \n",
       "12   0.000743   0.000385  \n",
       "13   0.000931   0.000335  \n",
       "14   0.001603   0.000949  \n",
       "15   0.001275   0.000460  \n",
       "16   0.002343   0.000454  \n",
       "17   0.001851   0.001603  \n",
       "18   0.001035   0.001035  \n",
       "\n",
       "[18 rows x 32 columns]"
      ]
     },
     "execution_count": 1,
     "metadata": {},
     "output_type": "execute_result"
    }
   ],
   "source": [
    "import pandas as pd\n",
    "import seaborn as sns\n",
    "import matplotlib.pyplot as plt\n",
    "import numpy as np\n",
    "\n",
    "from Plots import *\n",
    "\n",
    "from DataProduction import *\n",
    "\n",
    "from SupportingFunctions import *\n",
    "\n",
    "import warnings\n",
    "warnings.filterwarnings('ignore')\n",
    "\n",
    "\n",
    "run_list=[285490,286498,287987,288543,289413,289733,291970,293528]\n",
    "# run_list=[285490,286498,287987,288543,289413,289733,291970,293528]\n",
    "color_list_=['tab:blue','tab:orange','tab:green','tab:red','tab:purple','tab:brown','tab:olive','tab:cyan']\n",
    "from scipy.special import kl_div,softmax\n",
    "\n",
    "from statsmodels.graphics.tsaplots import plot_acf,plot_pacf\n",
    "from statsmodels.tsa.stattools import adfuller\n",
    "from statsmodels.tsa.arima.model import ARIMA\n",
    "import pmdarima as pm\n",
    "\n",
    "\n",
    "\n",
    "dataProduction=dataProd()\n",
    "mix_=dataProduction.multipleRun(285490,286498,287987,288543,289413,289733,291970,293528)\n",
    "mix=mix_.copy()\n",
    "pedestalOnly=pd.DataFrame(index=np.arange(18)+1)\n",
    "planes_list=['UTaX', 'UTaU', 'UTbV', 'UTbX']\n",
    "\n",
    "for i,v in enumerate(run_list):\n",
    "    for plane in planes_list:\n",
    "        temp_=mix[v].loc[(mix[v,'Plane']==plane)][['Side','Position','PedestalValue']]\n",
    "        temp_['Stave']=temp_['Side']+temp_['Position'].astype(str)\n",
    "        temp_.drop(['Side','Position'],axis=1,inplace=True)\n",
    "        pedestalOnly[['Stave','Run'+str(i+1)+'_'+plane]]=temp_.groupby(['Stave']).agg('mean')['PedestalValue'].reset_index()\n",
    "\n",
    "\n",
    "\n",
    "\n",
    "pedestalOnly_=pedestalOnly.drop(['Stave'],axis=1).fillna(0)\n",
    "\n",
    "probabilities_=pd.DataFrame(softmax(pedestalOnly_),columns=pedestalOnly_.columns,index=np.arange(18)+1)\n",
    "probabilities_"
   ]
  },
  {
   "cell_type": "code",
   "execution_count": 2,
   "metadata": {},
   "outputs": [],
   "source": [
    "utax_=pedestalOnly_[pedestalOnly_.filter(regex='UTaX').columns]\n",
    "utax=utax_.values.flatten()\n",
    "ts=pd.DataFrame(index=np.arange(144))\n",
    "ts['utax']=utax\n",
    "ts=ts[ts['utax']!=0]\n",
    "# ts=np.abs(ts)"
   ]
  },
  {
   "cell_type": "code",
   "execution_count": 3,
   "metadata": {},
   "outputs": [
    {
     "data": {
      "text/plain": [
       "<Axes: >"
      ]
     },
     "execution_count": 3,
     "metadata": {},
     "output_type": "execute_result"
    },
    {
     "data": {
      "image/png": "[encoded data removed]",
      "text/plain": [
       "<Figure size 1500x500 with 1 Axes>"
      ]
     },
     "metadata": {},
     "output_type": "display_data"
    }
   ],
   "source": [
    "from sklearn.preprocessing import RobustScaler,MinMaxScaler\n",
    "scaler = MinMaxScaler(feature_range=(0, 1))\n",
    "\n",
    "\n",
    "# Fit and transform the data\n",
    "ts['utax_scaled'] = scaler.fit_transform(ts[['utax']])\n",
    "ts.plot(kind='box')"
   ]
  },
  {
   "cell_type": "code",
   "execution_count": 4,
   "metadata": {},
   "outputs": [],
   "source": [
    "train=ts.head(100)\n",
    "test=ts.tail(20)"
   ]
  },
  {
   "cell_type": "code",
   "execution_count": 5,
   "metadata": {},
   "outputs": [
    {
     "data": {
      "text/plain": [
       "[<matplotlib.lines.Line2D at 0x144a23c20>,\n",
       " <matplotlib.lines.Line2D at 0x144a23b90>]"
      ]
     },
     "execution_count": 5,
     "metadata": {},
     "output_type": "execute_result"
    },
    {
     "data": {
      "image/png": "[encoded data removed]",
      "text/plain": [
       "<Figure size 1500x500 with 1 Axes>"
      ]
     },
     "metadata": {},
     "output_type": "display_data"
    }
   ],
   "source": [
    "plt.plot(train)\n",
    "plt.plot(test)"
   ]
  },
  {
   "cell_type": "code",
   "execution_count": 6,
   "metadata": {},
   "outputs": [
    {
     "data": {
      "image/png": "[encoded data removed]",
      "text/plain": [
       "<Figure size 1500x500 with 1 Axes>"
      ]
     },
     "execution_count": 6,
     "metadata": {},
     "output_type": "execute_result"
    },
    {
     "data": {
      "image/png": "[encoded data removed]",
      "text/plain": [
       "<Figure size 1500x500 with 1 Axes>"
      ]
     },
     "metadata": {},
     "output_type": "display_data"
    }
   ],
   "source": [
    "#finding I\n",
    "plot_pacf(train['utax_scaled'])"
   ]
  },
  {
   "cell_type": "code",
   "execution_count": 7,
   "metadata": {},
   "outputs": [],
   "source": [
    "# adfuller(train)\n",
    "\n",
    "# auto_arima = pm.auto_arima(train)\n",
    "# auto_arima"
   ]
  },
  {
   "cell_type": "code",
   "execution_count": 8,
   "metadata": {},
   "outputs": [
    {
     "name": "stderr",
     "output_type": "stream",
     "text": [
      "/Users/sabinhashmi/miniconda3/envs/box/lib/python3.12/site-packages/statsmodels/base/model.py:607: ConvergenceWarning: Maximum Likelihood optimization failed to converge. Check mle_retvals\n",
      "  warnings.warn(\"Maximum Likelihood optimization failed to \"\n",
      "/Users/sabinhashmi/miniconda3/envs/box/lib/python3.12/site-packages/statsmodels/base/model.py:607: ConvergenceWarning: Maximum Likelihood optimization failed to converge. Check mle_retvals\n",
      "  warnings.warn(\"Maximum Likelihood optimization failed to \"\n",
      "/Users/sabinhashmi/miniconda3/envs/box/lib/python3.12/site-packages/statsmodels/base/model.py:607: ConvergenceWarning: Maximum Likelihood optimization failed to converge. Check mle_retvals\n",
      "  warnings.warn(\"Maximum Likelihood optimization failed to \"\n",
      "/Users/sabinhashmi/miniconda3/envs/box/lib/python3.12/site-packages/statsmodels/base/model.py:607: ConvergenceWarning: Maximum Likelihood optimization failed to converge. Check mle_retvals\n",
      "  warnings.warn(\"Maximum Likelihood optimization failed to \"\n",
      "/Users/sabinhashmi/miniconda3/envs/box/lib/python3.12/site-packages/statsmodels/base/model.py:607: ConvergenceWarning: Maximum Likelihood optimization failed to converge. Check mle_retvals\n",
      "  warnings.warn(\"Maximum Likelihood optimization failed to \"\n",
      "/Users/sabinhashmi/miniconda3/envs/box/lib/python3.12/site-packages/statsmodels/base/model.py:607: ConvergenceWarning: Maximum Likelihood optimization failed to converge. Check mle_retvals\n",
      "  warnings.warn(\"Maximum Likelihood optimization failed to \"\n",
      "/Users/sabinhashmi/miniconda3/envs/box/lib/python3.12/site-packages/statsmodels/base/model.py:607: ConvergenceWarning: Maximum Likelihood optimization failed to converge. Check mle_retvals\n",
      "  warnings.warn(\"Maximum Likelihood optimization failed to \"\n",
      "/Users/sabinhashmi/miniconda3/envs/box/lib/python3.12/site-packages/statsmodels/base/model.py:607: ConvergenceWarning: Maximum Likelihood optimization failed to converge. Check mle_retvals\n",
      "  warnings.warn(\"Maximum Likelihood optimization failed to \"\n",
      "/Users/sabinhashmi/miniconda3/envs/box/lib/python3.12/site-packages/statsmodels/base/model.py:607: ConvergenceWarning: Maximum Likelihood optimization failed to converge. Check mle_retvals\n",
      "  warnings.warn(\"Maximum Likelihood optimization failed to \"\n",
      "/Users/sabinhashmi/miniconda3/envs/box/lib/python3.12/site-packages/statsmodels/base/model.py:607: ConvergenceWarning: Maximum Likelihood optimization failed to converge. Check mle_retvals\n",
      "  warnings.warn(\"Maximum Likelihood optimization failed to \"\n",
      "/Users/sabinhashmi/miniconda3/envs/box/lib/python3.12/site-packages/statsmodels/base/model.py:607: ConvergenceWarning: Maximum Likelihood optimization failed to converge. Check mle_retvals\n",
      "  warnings.warn(\"Maximum Likelihood optimization failed to \"\n",
      "/Users/sabinhashmi/miniconda3/envs/box/lib/python3.12/site-packages/statsmodels/base/model.py:607: ConvergenceWarning: Maximum Likelihood optimization failed to converge. Check mle_retvals\n",
      "  warnings.warn(\"Maximum Likelihood optimization failed to \"\n",
      "/Users/sabinhashmi/miniconda3/envs/box/lib/python3.12/site-packages/statsmodels/base/model.py:607: ConvergenceWarning: Maximum Likelihood optimization failed to converge. Check mle_retvals\n",
      "  warnings.warn(\"Maximum Likelihood optimization failed to \"\n",
      "/Users/sabinhashmi/miniconda3/envs/box/lib/python3.12/site-packages/statsmodels/base/model.py:607: ConvergenceWarning: Maximum Likelihood optimization failed to converge. Check mle_retvals\n",
      "  warnings.warn(\"Maximum Likelihood optimization failed to \"\n",
      "/Users/sabinhashmi/miniconda3/envs/box/lib/python3.12/site-packages/statsmodels/base/model.py:607: ConvergenceWarning: Maximum Likelihood optimization failed to converge. Check mle_retvals\n",
      "  warnings.warn(\"Maximum Likelihood optimization failed to \"\n",
      "/Users/sabinhashmi/miniconda3/envs/box/lib/python3.12/site-packages/statsmodels/base/model.py:607: ConvergenceWarning: Maximum Likelihood optimization failed to converge. Check mle_retvals\n",
      "  warnings.warn(\"Maximum Likelihood optimization failed to \"\n",
      "/Users/sabinhashmi/miniconda3/envs/box/lib/python3.12/site-packages/statsmodels/base/model.py:607: ConvergenceWarning: Maximum Likelihood optimization failed to converge. Check mle_retvals\n",
      "  warnings.warn(\"Maximum Likelihood optimization failed to \"\n",
      "/Users/sabinhashmi/miniconda3/envs/box/lib/python3.12/site-packages/statsmodels/base/model.py:607: ConvergenceWarning: Maximum Likelihood optimization failed to converge. Check mle_retvals\n",
      "  warnings.warn(\"Maximum Likelihood optimization failed to \"\n",
      "/Users/sabinhashmi/miniconda3/envs/box/lib/python3.12/site-packages/statsmodels/base/model.py:607: ConvergenceWarning: Maximum Likelihood optimization failed to converge. Check mle_retvals\n",
      "  warnings.warn(\"Maximum Likelihood optimization failed to \"\n",
      "/Users/sabinhashmi/miniconda3/envs/box/lib/python3.12/site-packages/statsmodels/base/model.py:607: ConvergenceWarning: Maximum Likelihood optimization failed to converge. Check mle_retvals\n",
      "  warnings.warn(\"Maximum Likelihood optimization failed to \"\n",
      "/Users/sabinhashmi/miniconda3/envs/box/lib/python3.12/site-packages/statsmodels/base/model.py:607: ConvergenceWarning: Maximum Likelihood optimization failed to converge. Check mle_retvals\n",
      "  warnings.warn(\"Maximum Likelihood optimization failed to \"\n",
      "/Users/sabinhashmi/miniconda3/envs/box/lib/python3.12/site-packages/statsmodels/base/model.py:607: ConvergenceWarning: Maximum Likelihood optimization failed to converge. Check mle_retvals\n",
      "  warnings.warn(\"Maximum Likelihood optimization failed to \"\n",
      "/Users/sabinhashmi/miniconda3/envs/box/lib/python3.12/site-packages/statsmodels/base/model.py:607: ConvergenceWarning: Maximum Likelihood optimization failed to converge. Check mle_retvals\n",
      "  warnings.warn(\"Maximum Likelihood optimization failed to \"\n",
      "/Users/sabinhashmi/miniconda3/envs/box/lib/python3.12/site-packages/statsmodels/base/model.py:607: ConvergenceWarning: Maximum Likelihood optimization failed to converge. Check mle_retvals\n",
      "  warnings.warn(\"Maximum Likelihood optimization failed to \"\n",
      "/Users/sabinhashmi/miniconda3/envs/box/lib/python3.12/site-packages/statsmodels/base/model.py:607: ConvergenceWarning: Maximum Likelihood optimization failed to converge. Check mle_retvals\n",
      "  warnings.warn(\"Maximum Likelihood optimization failed to \"\n",
      "/Users/sabinhashmi/miniconda3/envs/box/lib/python3.12/site-packages/statsmodels/base/model.py:607: ConvergenceWarning: Maximum Likelihood optimization failed to converge. Check mle_retvals\n",
      "  warnings.warn(\"Maximum Likelihood optimization failed to \"\n",
      "/Users/sabinhashmi/miniconda3/envs/box/lib/python3.12/site-packages/statsmodels/base/model.py:607: ConvergenceWarning: Maximum Likelihood optimization failed to converge. Check mle_retvals\n",
      "  warnings.warn(\"Maximum Likelihood optimization failed to \"\n",
      "/Users/sabinhashmi/miniconda3/envs/box/lib/python3.12/site-packages/statsmodels/base/model.py:607: ConvergenceWarning: Maximum Likelihood optimization failed to converge. Check mle_retvals\n",
      "  warnings.warn(\"Maximum Likelihood optimization failed to \"\n",
      "/Users/sabinhashmi/miniconda3/envs/box/lib/python3.12/site-packages/statsmodels/base/model.py:607: ConvergenceWarning: Maximum Likelihood optimization failed to converge. Check mle_retvals\n",
      "  warnings.warn(\"Maximum Likelihood optimization failed to \"\n",
      "/Users/sabinhashmi/miniconda3/envs/box/lib/python3.12/site-packages/statsmodels/base/model.py:607: ConvergenceWarning: Maximum Likelihood optimization failed to converge. Check mle_retvals\n",
      "  warnings.warn(\"Maximum Likelihood optimization failed to \"\n",
      "/Users/sabinhashmi/miniconda3/envs/box/lib/python3.12/site-packages/statsmodels/base/model.py:607: ConvergenceWarning: Maximum Likelihood optimization failed to converge. Check mle_retvals\n",
      "  warnings.warn(\"Maximum Likelihood optimization failed to \"\n",
      "/Users/sabinhashmi/miniconda3/envs/box/lib/python3.12/site-packages/statsmodels/base/model.py:607: ConvergenceWarning: Maximum Likelihood optimization failed to converge. Check mle_retvals\n",
      "  warnings.warn(\"Maximum Likelihood optimization failed to \"\n",
      "/Users/sabinhashmi/miniconda3/envs/box/lib/python3.12/site-packages/statsmodels/base/model.py:607: ConvergenceWarning: Maximum Likelihood optimization failed to converge. Check mle_retvals\n",
      "  warnings.warn(\"Maximum Likelihood optimization failed to \"\n",
      "/Users/sabinhashmi/miniconda3/envs/box/lib/python3.12/site-packages/statsmodels/base/model.py:607: ConvergenceWarning: Maximum Likelihood optimization failed to converge. Check mle_retvals\n",
      "  warnings.warn(\"Maximum Likelihood optimization failed to \"\n",
      "/Users/sabinhashmi/miniconda3/envs/box/lib/python3.12/site-packages/statsmodels/base/model.py:607: ConvergenceWarning: Maximum Likelihood optimization failed to converge. Check mle_retvals\n",
      "  warnings.warn(\"Maximum Likelihood optimization failed to \"\n",
      "/Users/sabinhashmi/miniconda3/envs/box/lib/python3.12/site-packages/statsmodels/base/model.py:607: ConvergenceWarning: Maximum Likelihood optimization failed to converge. Check mle_retvals\n",
      "  warnings.warn(\"Maximum Likelihood optimization failed to \"\n",
      "/Users/sabinhashmi/miniconda3/envs/box/lib/python3.12/site-packages/statsmodels/base/model.py:607: ConvergenceWarning: Maximum Likelihood optimization failed to converge. Check mle_retvals\n",
      "  warnings.warn(\"Maximum Likelihood optimization failed to \"\n",
      "/Users/sabinhashmi/miniconda3/envs/box/lib/python3.12/site-packages/statsmodels/base/model.py:607: ConvergenceWarning: Maximum Likelihood optimization failed to converge. Check mle_retvals\n",
      "  warnings.warn(\"Maximum Likelihood optimization failed to \"\n",
      "/Users/sabinhashmi/miniconda3/envs/box/lib/python3.12/site-packages/statsmodels/base/model.py:607: ConvergenceWarning: Maximum Likelihood optimization failed to converge. Check mle_retvals\n",
      "  warnings.warn(\"Maximum Likelihood optimization failed to \"\n",
      "/Users/sabinhashmi/miniconda3/envs/box/lib/python3.12/site-packages/statsmodels/base/model.py:607: ConvergenceWarning: Maximum Likelihood optimization failed to converge. Check mle_retvals\n",
      "  warnings.warn(\"Maximum Likelihood optimization failed to \"\n",
      "/Users/sabinhashmi/miniconda3/envs/box/lib/python3.12/site-packages/statsmodels/base/model.py:607: ConvergenceWarning: Maximum Likelihood optimization failed to converge. Check mle_retvals\n",
      "  warnings.warn(\"Maximum Likelihood optimization failed to \"\n",
      "/Users/sabinhashmi/miniconda3/envs/box/lib/python3.12/site-packages/statsmodels/base/model.py:607: ConvergenceWarning: Maximum Likelihood optimization failed to converge. Check mle_retvals\n",
      "  warnings.warn(\"Maximum Likelihood optimization failed to \"\n",
      "/Users/sabinhashmi/miniconda3/envs/box/lib/python3.12/site-packages/statsmodels/base/model.py:607: ConvergenceWarning: Maximum Likelihood optimization failed to converge. Check mle_retvals\n",
      "  warnings.warn(\"Maximum Likelihood optimization failed to \"\n",
      "/Users/sabinhashmi/miniconda3/envs/box/lib/python3.12/site-packages/statsmodels/base/model.py:607: ConvergenceWarning: Maximum Likelihood optimization failed to converge. Check mle_retvals\n",
      "  warnings.warn(\"Maximum Likelihood optimization failed to \"\n",
      "/Users/sabinhashmi/miniconda3/envs/box/lib/python3.12/site-packages/statsmodels/base/model.py:607: ConvergenceWarning: Maximum Likelihood optimization failed to converge. Check mle_retvals\n",
      "  warnings.warn(\"Maximum Likelihood optimization failed to \"\n",
      "/Users/sabinhashmi/miniconda3/envs/box/lib/python3.12/site-packages/statsmodels/base/model.py:607: ConvergenceWarning: Maximum Likelihood optimization failed to converge. Check mle_retvals\n",
      "  warnings.warn(\"Maximum Likelihood optimization failed to \"\n",
      "/Users/sabinhashmi/miniconda3/envs/box/lib/python3.12/site-packages/statsmodels/base/model.py:607: ConvergenceWarning: Maximum Likelihood optimization failed to converge. Check mle_retvals\n",
      "  warnings.warn(\"Maximum Likelihood optimization failed to \"\n",
      "/Users/sabinhashmi/miniconda3/envs/box/lib/python3.12/site-packages/statsmodels/base/model.py:607: ConvergenceWarning: Maximum Likelihood optimization failed to converge. Check mle_retvals\n",
      "  warnings.warn(\"Maximum Likelihood optimization failed to \"\n",
      "/Users/sabinhashmi/miniconda3/envs/box/lib/python3.12/site-packages/statsmodels/base/model.py:607: ConvergenceWarning: Maximum Likelihood optimization failed to converge. Check mle_retvals\n",
      "  warnings.warn(\"Maximum Likelihood optimization failed to \"\n",
      "/Users/sabinhashmi/miniconda3/envs/box/lib/python3.12/site-packages/statsmodels/base/model.py:607: ConvergenceWarning: Maximum Likelihood optimization failed to converge. Check mle_retvals\n",
      "  warnings.warn(\"Maximum Likelihood optimization failed to \"\n",
      "/Users/sabinhashmi/miniconda3/envs/box/lib/python3.12/site-packages/statsmodels/base/model.py:607: ConvergenceWarning: Maximum Likelihood optimization failed to converge. Check mle_retvals\n",
      "  warnings.warn(\"Maximum Likelihood optimization failed to \"\n",
      "/Users/sabinhashmi/miniconda3/envs/box/lib/python3.12/site-packages/statsmodels/base/model.py:607: ConvergenceWarning: Maximum Likelihood optimization failed to converge. Check mle_retvals\n",
      "  warnings.warn(\"Maximum Likelihood optimization failed to \"\n",
      "/Users/sabinhashmi/miniconda3/envs/box/lib/python3.12/site-packages/statsmodels/base/model.py:607: ConvergenceWarning: Maximum Likelihood optimization failed to converge. Check mle_retvals\n",
      "  warnings.warn(\"Maximum Likelihood optimization failed to \"\n",
      "/Users/sabinhashmi/miniconda3/envs/box/lib/python3.12/site-packages/statsmodels/base/model.py:607: ConvergenceWarning: Maximum Likelihood optimization failed to converge. Check mle_retvals\n",
      "  warnings.warn(\"Maximum Likelihood optimization failed to \"\n",
      "/Users/sabinhashmi/miniconda3/envs/box/lib/python3.12/site-packages/statsmodels/base/model.py:607: ConvergenceWarning: Maximum Likelihood optimization failed to converge. Check mle_retvals\n",
      "  warnings.warn(\"Maximum Likelihood optimization failed to \"\n",
      "/Users/sabinhashmi/miniconda3/envs/box/lib/python3.12/site-packages/statsmodels/base/model.py:607: ConvergenceWarning: Maximum Likelihood optimization failed to converge. Check mle_retvals\n",
      "  warnings.warn(\"Maximum Likelihood optimization failed to \"\n",
      "/Users/sabinhashmi/miniconda3/envs/box/lib/python3.12/site-packages/statsmodels/base/model.py:607: ConvergenceWarning: Maximum Likelihood optimization failed to converge. Check mle_retvals\n",
      "  warnings.warn(\"Maximum Likelihood optimization failed to \"\n",
      "/Users/sabinhashmi/miniconda3/envs/box/lib/python3.12/site-packages/statsmodels/base/model.py:607: ConvergenceWarning: Maximum Likelihood optimization failed to converge. Check mle_retvals\n",
      "  warnings.warn(\"Maximum Likelihood optimization failed to \"\n",
      "/Users/sabinhashmi/miniconda3/envs/box/lib/python3.12/site-packages/statsmodels/base/model.py:607: ConvergenceWarning: Maximum Likelihood optimization failed to converge. Check mle_retvals\n",
      "  warnings.warn(\"Maximum Likelihood optimization failed to \"\n",
      "/Users/sabinhashmi/miniconda3/envs/box/lib/python3.12/site-packages/statsmodels/base/model.py:607: ConvergenceWarning: Maximum Likelihood optimization failed to converge. Check mle_retvals\n",
      "  warnings.warn(\"Maximum Likelihood optimization failed to \"\n",
      "/Users/sabinhashmi/miniconda3/envs/box/lib/python3.12/site-packages/statsmodels/base/model.py:607: ConvergenceWarning: Maximum Likelihood optimization failed to converge. Check mle_retvals\n",
      "  warnings.warn(\"Maximum Likelihood optimization failed to \"\n",
      "/Users/sabinhashmi/miniconda3/envs/box/lib/python3.12/site-packages/statsmodels/base/model.py:607: ConvergenceWarning: Maximum Likelihood optimization failed to converge. Check mle_retvals\n",
      "  warnings.warn(\"Maximum Likelihood optimization failed to \"\n",
      "/Users/sabinhashmi/miniconda3/envs/box/lib/python3.12/site-packages/statsmodels/base/model.py:607: ConvergenceWarning: Maximum Likelihood optimization failed to converge. Check mle_retvals\n",
      "  warnings.warn(\"Maximum Likelihood optimization failed to \"\n",
      "/Users/sabinhashmi/miniconda3/envs/box/lib/python3.12/site-packages/statsmodels/base/model.py:607: ConvergenceWarning: Maximum Likelihood optimization failed to converge. Check mle_retvals\n",
      "  warnings.warn(\"Maximum Likelihood optimization failed to \"\n",
      "/Users/sabinhashmi/miniconda3/envs/box/lib/python3.12/site-packages/statsmodels/base/model.py:607: ConvergenceWarning: Maximum Likelihood optimization failed to converge. Check mle_retvals\n",
      "  warnings.warn(\"Maximum Likelihood optimization failed to \"\n",
      "/Users/sabinhashmi/miniconda3/envs/box/lib/python3.12/site-packages/statsmodels/base/model.py:607: ConvergenceWarning: Maximum Likelihood optimization failed to converge. Check mle_retvals\n",
      "  warnings.warn(\"Maximum Likelihood optimization failed to \"\n",
      "/Users/sabinhashmi/miniconda3/envs/box/lib/python3.12/site-packages/statsmodels/base/model.py:607: ConvergenceWarning: Maximum Likelihood optimization failed to converge. Check mle_retvals\n",
      "  warnings.warn(\"Maximum Likelihood optimization failed to \"\n",
      "/Users/sabinhashmi/miniconda3/envs/box/lib/python3.12/site-packages/statsmodels/base/model.py:607: ConvergenceWarning: Maximum Likelihood optimization failed to converge. Check mle_retvals\n",
      "  warnings.warn(\"Maximum Likelihood optimization failed to \"\n",
      "/Users/sabinhashmi/miniconda3/envs/box/lib/python3.12/site-packages/statsmodels/base/model.py:607: ConvergenceWarning: Maximum Likelihood optimization failed to converge. Check mle_retvals\n",
      "  warnings.warn(\"Maximum Likelihood optimization failed to \"\n",
      "/Users/sabinhashmi/miniconda3/envs/box/lib/python3.12/site-packages/statsmodels/base/model.py:607: ConvergenceWarning: Maximum Likelihood optimization failed to converge. Check mle_retvals\n",
      "  warnings.warn(\"Maximum Likelihood optimization failed to \"\n",
      "/Users/sabinhashmi/miniconda3/envs/box/lib/python3.12/site-packages/statsmodels/base/model.py:607: ConvergenceWarning: Maximum Likelihood optimization failed to converge. Check mle_retvals\n",
      "  warnings.warn(\"Maximum Likelihood optimization failed to \"\n",
      "/Users/sabinhashmi/miniconda3/envs/box/lib/python3.12/site-packages/statsmodels/base/model.py:607: ConvergenceWarning: Maximum Likelihood optimization failed to converge. Check mle_retvals\n",
      "  warnings.warn(\"Maximum Likelihood optimization failed to \"\n",
      "/Users/sabinhashmi/miniconda3/envs/box/lib/python3.12/site-packages/statsmodels/base/model.py:607: ConvergenceWarning: Maximum Likelihood optimization failed to converge. Check mle_retvals\n",
      "  warnings.warn(\"Maximum Likelihood optimization failed to \"\n",
      "/Users/sabinhashmi/miniconda3/envs/box/lib/python3.12/site-packages/statsmodels/base/model.py:607: ConvergenceWarning: Maximum Likelihood optimization failed to converge. Check mle_retvals\n",
      "  warnings.warn(\"Maximum Likelihood optimization failed to \"\n",
      "/Users/sabinhashmi/miniconda3/envs/box/lib/python3.12/site-packages/statsmodels/base/model.py:607: ConvergenceWarning: Maximum Likelihood optimization failed to converge. Check mle_retvals\n",
      "  warnings.warn(\"Maximum Likelihood optimization failed to \"\n",
      "/Users/sabinhashmi/miniconda3/envs/box/lib/python3.12/site-packages/statsmodels/base/model.py:607: ConvergenceWarning: Maximum Likelihood optimization failed to converge. Check mle_retvals\n",
      "  warnings.warn(\"Maximum Likelihood optimization failed to \"\n",
      "/Users/sabinhashmi/miniconda3/envs/box/lib/python3.12/site-packages/statsmodels/base/model.py:607: ConvergenceWarning: Maximum Likelihood optimization failed to converge. Check mle_retvals\n",
      "  warnings.warn(\"Maximum Likelihood optimization failed to \"\n",
      "/Users/sabinhashmi/miniconda3/envs/box/lib/python3.12/site-packages/statsmodels/base/model.py:607: ConvergenceWarning: Maximum Likelihood optimization failed to converge. Check mle_retvals\n",
      "  warnings.warn(\"Maximum Likelihood optimization failed to \"\n",
      "/Users/sabinhashmi/miniconda3/envs/box/lib/python3.12/site-packages/statsmodels/base/model.py:607: ConvergenceWarning: Maximum Likelihood optimization failed to converge. Check mle_retvals\n",
      "  warnings.warn(\"Maximum Likelihood optimization failed to \"\n",
      "/Users/sabinhashmi/miniconda3/envs/box/lib/python3.12/site-packages/statsmodels/base/model.py:607: ConvergenceWarning: Maximum Likelihood optimization failed to converge. Check mle_retvals\n",
      "  warnings.warn(\"Maximum Likelihood optimization failed to \"\n",
      "/Users/sabinhashmi/miniconda3/envs/box/lib/python3.12/site-packages/statsmodels/base/model.py:607: ConvergenceWarning: Maximum Likelihood optimization failed to converge. Check mle_retvals\n",
      "  warnings.warn(\"Maximum Likelihood optimization failed to \"\n",
      "/Users/sabinhashmi/miniconda3/envs/box/lib/python3.12/site-packages/statsmodels/base/model.py:607: ConvergenceWarning: Maximum Likelihood optimization failed to converge. Check mle_retvals\n",
      "  warnings.warn(\"Maximum Likelihood optimization failed to \"\n",
      "/Users/sabinhashmi/miniconda3/envs/box/lib/python3.12/site-packages/statsmodels/base/model.py:607: ConvergenceWarning: Maximum Likelihood optimization failed to converge. Check mle_retvals\n",
      "  warnings.warn(\"Maximum Likelihood optimization failed to \"\n",
      "/Users/sabinhashmi/miniconda3/envs/box/lib/python3.12/site-packages/statsmodels/base/model.py:607: ConvergenceWarning: Maximum Likelihood optimization failed to converge. Check mle_retvals\n",
      "  warnings.warn(\"Maximum Likelihood optimization failed to \"\n",
      "/Users/sabinhashmi/miniconda3/envs/box/lib/python3.12/site-packages/statsmodels/base/model.py:607: ConvergenceWarning: Maximum Likelihood optimization failed to converge. Check mle_retvals\n",
      "  warnings.warn(\"Maximum Likelihood optimization failed to \"\n",
      "/Users/sabinhashmi/miniconda3/envs/box/lib/python3.12/site-packages/statsmodels/base/model.py:607: ConvergenceWarning: Maximum Likelihood optimization failed to converge. Check mle_retvals\n",
      "  warnings.warn(\"Maximum Likelihood optimization failed to \"\n",
      "/Users/sabinhashmi/miniconda3/envs/box/lib/python3.12/site-packages/statsmodels/base/model.py:607: ConvergenceWarning: Maximum Likelihood optimization failed to converge. Check mle_retvals\n",
      "  warnings.warn(\"Maximum Likelihood optimization failed to \"\n",
      "/Users/sabinhashmi/miniconda3/envs/box/lib/python3.12/site-packages/statsmodels/base/model.py:607: ConvergenceWarning: Maximum Likelihood optimization failed to converge. Check mle_retvals\n",
      "  warnings.warn(\"Maximum Likelihood optimization failed to \"\n",
      "/Users/sabinhashmi/miniconda3/envs/box/lib/python3.12/site-packages/statsmodels/base/model.py:607: ConvergenceWarning: Maximum Likelihood optimization failed to converge. Check mle_retvals\n",
      "  warnings.warn(\"Maximum Likelihood optimization failed to \"\n",
      "/Users/sabinhashmi/miniconda3/envs/box/lib/python3.12/site-packages/statsmodels/base/model.py:607: ConvergenceWarning: Maximum Likelihood optimization failed to converge. Check mle_retvals\n",
      "  warnings.warn(\"Maximum Likelihood optimization failed to \"\n",
      "/Users/sabinhashmi/miniconda3/envs/box/lib/python3.12/site-packages/statsmodels/base/model.py:607: ConvergenceWarning: Maximum Likelihood optimization failed to converge. Check mle_retvals\n",
      "  warnings.warn(\"Maximum Likelihood optimization failed to \"\n",
      "/Users/sabinhashmi/miniconda3/envs/box/lib/python3.12/site-packages/statsmodels/base/model.py:607: ConvergenceWarning: Maximum Likelihood optimization failed to converge. Check mle_retvals\n",
      "  warnings.warn(\"Maximum Likelihood optimization failed to \"\n",
      "/Users/sabinhashmi/miniconda3/envs/box/lib/python3.12/site-packages/statsmodels/base/model.py:607: ConvergenceWarning: Maximum Likelihood optimization failed to converge. Check mle_retvals\n",
      "  warnings.warn(\"Maximum Likelihood optimization failed to \"\n",
      "/Users/sabinhashmi/miniconda3/envs/box/lib/python3.12/site-packages/statsmodels/base/model.py:607: ConvergenceWarning: Maximum Likelihood optimization failed to converge. Check mle_retvals\n",
      "  warnings.warn(\"Maximum Likelihood optimization failed to \"\n",
      "/Users/sabinhashmi/miniconda3/envs/box/lib/python3.12/site-packages/statsmodels/base/model.py:607: ConvergenceWarning: Maximum Likelihood optimization failed to converge. Check mle_retvals\n",
      "  warnings.warn(\"Maximum Likelihood optimization failed to \"\n",
      "/Users/sabinhashmi/miniconda3/envs/box/lib/python3.12/site-packages/statsmodels/base/model.py:607: ConvergenceWarning: Maximum Likelihood optimization failed to converge. Check mle_retvals\n",
      "  warnings.warn(\"Maximum Likelihood optimization failed to \"\n",
      "/Users/sabinhashmi/miniconda3/envs/box/lib/python3.12/site-packages/statsmodels/base/model.py:607: ConvergenceWarning: Maximum Likelihood optimization failed to converge. Check mle_retvals\n",
      "  warnings.warn(\"Maximum Likelihood optimization failed to \"\n",
      "/Users/sabinhashmi/miniconda3/envs/box/lib/python3.12/site-packages/statsmodels/base/model.py:607: ConvergenceWarning: Maximum Likelihood optimization failed to converge. Check mle_retvals\n",
      "  warnings.warn(\"Maximum Likelihood optimization failed to \"\n",
      "/Users/sabinhashmi/miniconda3/envs/box/lib/python3.12/site-packages/statsmodels/base/model.py:607: ConvergenceWarning: Maximum Likelihood optimization failed to converge. Check mle_retvals\n",
      "  warnings.warn(\"Maximum Likelihood optimization failed to \"\n",
      "/Users/sabinhashmi/miniconda3/envs/box/lib/python3.12/site-packages/statsmodels/base/model.py:607: ConvergenceWarning: Maximum Likelihood optimization failed to converge. Check mle_retvals\n",
      "  warnings.warn(\"Maximum Likelihood optimization failed to \"\n",
      "/Users/sabinhashmi/miniconda3/envs/box/lib/python3.12/site-packages/statsmodels/base/model.py:607: ConvergenceWarning: Maximum Likelihood optimization failed to converge. Check mle_retvals\n",
      "  warnings.warn(\"Maximum Likelihood optimization failed to \"\n",
      "/Users/sabinhashmi/miniconda3/envs/box/lib/python3.12/site-packages/statsmodels/base/model.py:607: ConvergenceWarning: Maximum Likelihood optimization failed to converge. Check mle_retvals\n",
      "  warnings.warn(\"Maximum Likelihood optimization failed to \"\n",
      "/Users/sabinhashmi/miniconda3/envs/box/lib/python3.12/site-packages/statsmodels/base/model.py:607: ConvergenceWarning: Maximum Likelihood optimization failed to converge. Check mle_retvals\n",
      "  warnings.warn(\"Maximum Likelihood optimization failed to \"\n",
      "/Users/sabinhashmi/miniconda3/envs/box/lib/python3.12/site-packages/statsmodels/base/model.py:607: ConvergenceWarning: Maximum Likelihood optimization failed to converge. Check mle_retvals\n",
      "  warnings.warn(\"Maximum Likelihood optimization failed to \"\n",
      "/Users/sabinhashmi/miniconda3/envs/box/lib/python3.12/site-packages/statsmodels/base/model.py:607: ConvergenceWarning: Maximum Likelihood optimization failed to converge. Check mle_retvals\n",
      "  warnings.warn(\"Maximum Likelihood optimization failed to \"\n",
      "/Users/sabinhashmi/miniconda3/envs/box/lib/python3.12/site-packages/statsmodels/base/model.py:607: ConvergenceWarning: Maximum Likelihood optimization failed to converge. Check mle_retvals\n",
      "  warnings.warn(\"Maximum Likelihood optimization failed to \"\n",
      "/Users/sabinhashmi/miniconda3/envs/box/lib/python3.12/site-packages/statsmodels/base/model.py:607: ConvergenceWarning: Maximum Likelihood optimization failed to converge. Check mle_retvals\n",
      "  warnings.warn(\"Maximum Likelihood optimization failed to \"\n",
      "/Users/sabinhashmi/miniconda3/envs/box/lib/python3.12/site-packages/statsmodels/base/model.py:607: ConvergenceWarning: Maximum Likelihood optimization failed to converge. Check mle_retvals\n",
      "  warnings.warn(\"Maximum Likelihood optimization failed to \"\n",
      "/Users/sabinhashmi/miniconda3/envs/box/lib/python3.12/site-packages/statsmodels/base/model.py:607: ConvergenceWarning: Maximum Likelihood optimization failed to converge. Check mle_retvals\n",
      "  warnings.warn(\"Maximum Likelihood optimization failed to \"\n",
      "/Users/sabinhashmi/miniconda3/envs/box/lib/python3.12/site-packages/statsmodels/base/model.py:607: ConvergenceWarning: Maximum Likelihood optimization failed to converge. Check mle_retvals\n",
      "  warnings.warn(\"Maximum Likelihood optimization failed to \"\n",
      "/Users/sabinhashmi/miniconda3/envs/box/lib/python3.12/site-packages/statsmodels/base/model.py:607: ConvergenceWarning: Maximum Likelihood optimization failed to converge. Check mle_retvals\n",
      "  warnings.warn(\"Maximum Likelihood optimization failed to \"\n",
      "/Users/sabinhashmi/miniconda3/envs/box/lib/python3.12/site-packages/statsmodels/base/model.py:607: ConvergenceWarning: Maximum Likelihood optimization failed to converge. Check mle_retvals\n",
      "  warnings.warn(\"Maximum Likelihood optimization failed to \"\n",
      "/Users/sabinhashmi/miniconda3/envs/box/lib/python3.12/site-packages/statsmodels/base/model.py:607: ConvergenceWarning: Maximum Likelihood optimization failed to converge. Check mle_retvals\n",
      "  warnings.warn(\"Maximum Likelihood optimization failed to \"\n"
     ]
    }
   ],
   "source": [
    "#Looping for the parameters.\n",
    "from sklearn.metrics import mean_squared_error\n",
    "import numpy as np\n",
    "\n",
    "d=0\n",
    "loss=[]\n",
    "for p in range(15):\n",
    "    for q in range(10):\n",
    "\n",
    "        model = ARIMA(train['utax_scaled'], order=(p,d,q))  # Example order, typically chosen through model selection criteria\n",
    "        model_fit = model.fit()\n",
    "\n",
    "        # Summary of the model\n",
    "        # print(model_fit.summary())\n",
    "        forecast = model_fit.forecast(steps=20)  # Forecasting next 12 periods (1 year)\n",
    "        # print(forecast)\n",
    "\n",
    "        loss_=np.sqrt(mean_squared_error(test['utax_scaled'],forecast))\n",
    "        loss.append((p, d, q, loss_))\n",
    "\n",
    "        # plt.title(f\"[P = {p}, D = {d}, Q = {q}]\")\n",
    "        # plt.plot(train.index, train, label='Train')\n",
    "        # plt.plot(test.index, test, label='Test')\n",
    "        # plt.plot(test.index, forecast, label='Forecast')\n",
    "        # plt.legend()\n",
    "        # plt.show()\n"
   ]
  },
  {
   "cell_type": "code",
   "execution_count": 9,
   "metadata": {},
   "outputs": [
    {
     "data": {
      "text/plain": [
       "[<matplotlib.lines.Line2D at 0x144c3f2c0>]"
      ]
     },
     "execution_count": 9,
     "metadata": {},
     "output_type": "execute_result"
    },
    {
     "data": {
      "image/png": "[encoded data removed]",
      "text/plain": [
       "<Figure size 1500x500 with 1 Axes>"
      ]
     },
     "metadata": {},
     "output_type": "display_data"
    }
   ],
   "source": [
    "lossData=pd.DataFrame(loss,columns=['p','d','q','loss'])\n",
    "lossData\n",
    "plt.plot(lossData['loss'])"
   ]
  },
  {
   "cell_type": "code",
   "execution_count": 10,
   "metadata": {},
   "outputs": [
    {
     "data": {
      "application/vnd.plotly.v1+json": {
       "config": {
        "plotlyServerURL": "https://plot.ly"
       },
       "data": [
        {
         "mode": "lines",
         "name": "Loss",
         "type": "scatter",
         "y": [
          0.13978532759638626,
          0.1398459691272031,
          0.14161510443327985,
          0.14148069351830853,
          0.1407650882546938,
          0.13685793550934974,
          0.13677490460670394,
          0.13553596256693767,
          0.13146677679826121,
          0.13147205265570958,
          0.13982611949310697,
          0.14480711527123777,
          0.14163720156949355,
          0.1414121208016405,
          0.1397086963694656,
          0.13673829529190978,
          0.13670177777884804,
          0.1328313252736822,
          0.13148542020064896,
          0.1331017194789799,
          0.14122808912959048,
          0.14127737961265688,
          0.14525923536578847,
          0.14796052018009825,
          0.13375525473112868,
          0.13378039228786676,
          0.13043163158090929,
          0.1281232737574446,
          0.128857544968245,
          0.12987450039188841,
          0.1403375566348445,
          0.14102626198408666,
          0.1413286380269837,
          0.14784116768077804,
          0.13397486247627757,
          0.1356061418147351,
          0.1350915170747879,
          0.12952697327277607,
          0.12972675371112272,
          0.1302079410465317,
          0.1397030003841231,
          0.14117245860031777,
          0.14054480465781805,
          0.14017265331539192,
          0.14135738840938344,
          0.13711470799393718,
          0.15281818643088857,
          0.14607966363840802,
          0.132910517798036,
          0.12641001132277555,
          0.14030374848835858,
          0.14133762019040608,
          0.14044141944238914,
          0.13977834348549228,
          0.14231895016078572,
          0.13676100055816218,
          0.14149803373708397,
          0.1455456093527136,
          0.14072003865151797,
          0.13994076362316482,
          0.13887138292268925,
          0.13855739893885824,
          0.12879149381561517,
          0.1285072470037023,
          0.14193529366102908,
          0.13612466455083846,
          0.15518046345623532,
          0.15331484402243378,
          0.1450051872203629,
          0.11896297245123795,
          0.13733943563020198,
          0.13160540502090995,
          0.12699398964526493,
          0.12489397523682509,
          0.14122481463880393,
          0.15873616157475726,
          0.13240219836434827,
          0.1419592493649125,
          0.1382911966810331,
          0.14623318102121832,
          0.11444881322142779,
          0.11639494120982616,
          0.11657004935726328,
          0.11842548459383373,
          0.12403413624233516,
          0.1177493654761379,
          0.13340664040425831,
          0.1276961048051814,
          0.14974260225818037,
          0.1448886870896696,
          0.11743315633023234,
          0.11615264065398365,
          0.11670768082698207,
          0.11668852567614615,
          0.11881432043813178,
          0.11982650590504171,
          0.13284105883231367,
          0.1334320384218372,
          0.15704816400742613,
          0.1524192567733807,
          0.11611012928397277,
          0.11711742739030004,
          0.11373254465290666,
          0.11756946160437577,
          0.1120317181240167,
          0.11152496695851512,
          0.12338964441989003,
          0.12379136846079364,
          0.12383786391675225,
          0.1488682210818684,
          0.1167358905495912,
          0.11687823612827057,
          0.11685957184907637,
          0.1174907347816007,
          0.1276743122202912,
          0.12219102696500551,
          0.11934443308157079,
          0.11434924690439227,
          0.12346313327287638,
          0.14229281295397855,
          0.11519312625740327,
          0.11532800588037388,
          0.11657522033515144,
          0.11593434241950605,
          0.12289105761409344,
          0.12540332380424626,
          0.1189317992711755,
          0.12165235905189092,
          0.12663144790789496,
          0.14900572196943185,
          0.11965283449060087,
          0.11933917147665069,
          0.11925314599697312,
          0.11412489401784547,
          0.13276312606477128,
          0.11761586637036557,
          0.1236386326550886,
          0.1199772495238522,
          0.126254389609244,
          0.15367063781184595,
          0.11807728445008225,
          0.1180381630214248,
          0.11848573348360548,
          0.1172134981189137,
          0.12487511710471708,
          0.11914147832348514,
          0.12294341995591833,
          0.12796434379666846,
          0.15203167091813227,
          0.1493058716312492
         ]
        }
       ],
       "layout": {
        "template": {
         "data": {
          "bar": [
           {
            "error_x": {
             "color": "#2a3f5f"
            },
            "error_y": {
             "color": "#2a3f5f"
            },
            "marker": {
             "line": {
              "color": "#E5ECF6",
              "width": 0.5
             },
             "pattern": {
              "fillmode": "overlay",
              "size": 10,
              "solidity": 0.2
             }
            },
            "type": "bar"
           }
          ],
          "barpolar": [
           {
            "marker": {
             "line": {
              "color": "#E5ECF6",
              "width": 0.5
             },
             "pattern": {
              "fillmode": "overlay",
              "size": 10,
              "solidity": 0.2
             }
            },
            "type": "barpolar"
           }
          ],
          "carpet": [
           {
            "aaxis": {
             "endlinecolor": "#2a3f5f",
             "gridcolor": "white",
             "linecolor": "white",
             "minorgridcolor": "white",
             "startlinecolor": "#2a3f5f"
            },
            "baxis": {
             "endlinecolor": "#2a3f5f",
             "gridcolor": "white",
             "linecolor": "white",
             "minorgridcolor": "white",
             "startlinecolor": "#2a3f5f"
            },
            "type": "carpet"
           }
          ],
          "choropleth": [
           {
            "colorbar": {
             "outlinewidth": 0,
             "ticks": ""
            },
            "type": "choropleth"
           }
          ],
          "contour": [
           {
            "colorbar": {
             "outlinewidth": 0,
             "ticks": ""
            },
            "colorscale": [
             [
              0,
              "#0d0887"
             ],
             [
              0.1111111111111111,
              "#46039f"
             ],
             [
              0.2222222222222222,
              "#7201a8"
             ],
             [
              0.3333333333333333,
              "#9c179e"
             ],
             [
              0.4444444444444444,
              "#bd3786"
             ],
             [
              0.5555555555555556,
              "#d8576b"
             ],
             [
              0.6666666666666666,
              "#ed7953"
             ],
             [
              0.7777777777777778,
              "#fb9f3a"
             ],
             [
              0.8888888888888888,
              "#fdca26"
             ],
             [
              1,
              "#f0f921"
             ]
            ],
            "type": "contour"
           }
          ],
          "contourcarpet": [
           {
            "colorbar": {
             "outlinewidth": 0,
             "ticks": ""
            },
            "type": "contourcarpet"
           }
          ],
          "heatmap": [
           {
            "colorbar": {
             "outlinewidth": 0,
             "ticks": ""
            },
            "colorscale": [
             [
              0,
              "#0d0887"
             ],
             [
              0.1111111111111111,
              "#46039f"
             ],
             [
              0.2222222222222222,
              "#7201a8"
             ],
             [
              0.3333333333333333,
              "#9c179e"
             ],
             [
              0.4444444444444444,
              "#bd3786"
             ],
             [
              0.5555555555555556,
              "#d8576b"
             ],
             [
              0.6666666666666666,
              "#ed7953"
             ],
             [
              0.7777777777777778,
              "#fb9f3a"
             ],
             [
              0.8888888888888888,
              "#fdca26"
             ],
             [
              1,
              "#f0f921"
             ]
            ],
            "type": "heatmap"
           }
          ],
          "heatmapgl": [
           {
            "colorbar": {
             "outlinewidth": 0,
             "ticks": ""
            },
            "colorscale": [
             [
              0,
              "#0d0887"
             ],
             [
              0.1111111111111111,
              "#46039f"
             ],
             [
              0.2222222222222222,
              "#7201a8"
             ],
             [
              0.3333333333333333,
              "#9c179e"
             ],
             [
              0.4444444444444444,
              "#bd3786"
             ],
             [
              0.5555555555555556,
              "#d8576b"
             ],
             [
              0.6666666666666666,
              "#ed7953"
             ],
             [
              0.7777777777777778,
              "#fb9f3a"
             ],
             [
              0.8888888888888888,
              "#fdca26"
             ],
             [
              1,
              "#f0f921"
             ]
            ],
            "type": "heatmapgl"
           }
          ],
          "histogram": [
           {
            "marker": {
             "pattern": {
              "fillmode": "overlay",
              "size": 10,
              "solidity": 0.2
             }
            },
            "type": "histogram"
           }
          ],
          "histogram2d": [
           {
            "colorbar": {
             "outlinewidth": 0,
             "ticks": ""
            },
            "colorscale": [
             [
              0,
              "#0d0887"
             ],
             [
              0.1111111111111111,
              "#46039f"
             ],
             [
              0.2222222222222222,
              "#7201a8"
             ],
             [
              0.3333333333333333,
              "#9c179e"
             ],
             [
              0.4444444444444444,
              "#bd3786"
             ],
             [
              0.5555555555555556,
              "#d8576b"
             ],
             [
              0.6666666666666666,
              "#ed7953"
             ],
             [
              0.7777777777777778,
              "#fb9f3a"
             ],
             [
              0.8888888888888888,
              "#fdca26"
             ],
             [
              1,
              "#f0f921"
             ]
            ],
            "type": "histogram2d"
           }
          ],
          "histogram2dcontour": [
           {
            "colorbar": {
             "outlinewidth": 0,
             "ticks": ""
            },
            "colorscale": [
             [
              0,
              "#0d0887"
             ],
             [
              0.1111111111111111,
              "#46039f"
             ],
             [
              0.2222222222222222,
              "#7201a8"
             ],
             [
              0.3333333333333333,
              "#9c179e"
             ],
             [
              0.4444444444444444,
              "#bd3786"
             ],
             [
              0.5555555555555556,
              "#d8576b"
             ],
             [
              0.6666666666666666,
              "#ed7953"
             ],
             [
              0.7777777777777778,
              "#fb9f3a"
             ],
             [
              0.8888888888888888,
              "#fdca26"
             ],
             [
              1,
              "#f0f921"
             ]
            ],
            "type": "histogram2dcontour"
           }
          ],
          "mesh3d": [
           {
            "colorbar": {
             "outlinewidth": 0,
             "ticks": ""
            },
            "type": "mesh3d"
           }
          ],
          "parcoords": [
           {
            "line": {
             "colorbar": {
              "outlinewidth": 0,
              "ticks": ""
             }
            },
            "type": "parcoords"
           }
          ],
          "pie": [
           {
            "automargin": true,
            "type": "pie"
           }
          ],
          "scatter": [
           {
            "fillpattern": {
             "fillmode": "overlay",
             "size": 10,
             "solidity": 0.2
            },
            "type": "scatter"
           }
          ],
          "scatter3d": [
           {
            "line": {
             "colorbar": {
              "outlinewidth": 0,
              "ticks": ""
             }
            },
            "marker": {
             "colorbar": {
              "outlinewidth": 0,
              "ticks": ""
             }
            },
            "type": "scatter3d"
           }
          ],
          "scattercarpet": [
           {
            "marker": {
             "colorbar": {
              "outlinewidth": 0,
              "ticks": ""
             }
            },
            "type": "scattercarpet"
           }
          ],
          "scattergeo": [
           {
            "marker": {
             "colorbar": {
              "outlinewidth": 0,
              "ticks": ""
             }
            },
            "type": "scattergeo"
           }
          ],
          "scattergl": [
           {
            "marker": {
             "colorbar": {
              "outlinewidth": 0,
              "ticks": ""
             }
            },
            "type": "scattergl"
           }
          ],
          "scattermapbox": [
           {
            "marker": {
             "colorbar": {
              "outlinewidth": 0,
              "ticks": ""
             }
            },
            "type": "scattermapbox"
           }
          ],
          "scatterpolar": [
           {
            "marker": {
             "colorbar": {
              "outlinewidth": 0,
              "ticks": ""
             }
            },
            "type": "scatterpolar"
           }
          ],
          "scatterpolargl": [
           {
            "marker": {
             "colorbar": {
              "outlinewidth": 0,
              "ticks": ""
             }
            },
            "type": "scatterpolargl"
           }
          ],
          "scatterternary": [
           {
            "marker": {
             "colorbar": {
              "outlinewidth": 0,
              "ticks": ""
             }
            },
            "type": "scatterternary"
           }
          ],
          "surface": [
           {
            "colorbar": {
             "outlinewidth": 0,
             "ticks": ""
            },
            "colorscale": [
             [
              0,
              "#0d0887"
             ],
             [
              0.1111111111111111,
              "#46039f"
             ],
             [
              0.2222222222222222,
              "#7201a8"
             ],
             [
              0.3333333333333333,
              "#9c179e"
             ],
             [
              0.4444444444444444,
              "#bd3786"
             ],
             [
              0.5555555555555556,
              "#d8576b"
             ],
             [
              0.6666666666666666,
              "#ed7953"
             ],
             [
              0.7777777777777778,
              "#fb9f3a"
             ],
             [
              0.8888888888888888,
              "#fdca26"
             ],
             [
              1,
              "#f0f921"
             ]
            ],
            "type": "surface"
           }
          ],
          "table": [
           {
            "cells": {
             "fill": {
              "color": "#EBF0F8"
             },
             "line": {
              "color": "white"
             }
            },
            "header": {
             "fill": {
              "color": "#C8D4E3"
             },
             "line": {
              "color": "white"
             }
            },
            "type": "table"
           }
          ]
         },
         "layout": {
          "annotationdefaults": {
           "arrowcolor": "#2a3f5f",
           "arrowhead": 0,
           "arrowwidth": 1
          },
          "autotypenumbers": "strict",
          "coloraxis": {
           "colorbar": {
            "outlinewidth": 0,
            "ticks": ""
           }
          },
          "colorscale": {
           "diverging": [
            [
             0,
             "#8e0152"
            ],
            [
             0.1,
             "#c51b7d"
            ],
            [
             0.2,
             "#de77ae"
            ],
            [
             0.3,
             "#f1b6da"
            ],
            [
             0.4,
             "#fde0ef"
            ],
            [
             0.5,
             "#f7f7f7"
            ],
            [
             0.6,
             "#e6f5d0"
            ],
            [
             0.7,
             "#b8e186"
            ],
            [
             0.8,
             "#7fbc41"
            ],
            [
             0.9,
             "#4d9221"
            ],
            [
             1,
             "#276419"
            ]
           ],
           "sequential": [
            [
             0,
             "#0d0887"
            ],
            [
             0.1111111111111111,
             "#46039f"
            ],
            [
             0.2222222222222222,
             "#7201a8"
            ],
            [
             0.3333333333333333,
             "#9c179e"
            ],
            [
             0.4444444444444444,
             "#bd3786"
            ],
            [
             0.5555555555555556,
             "#d8576b"
            ],
            [
             0.6666666666666666,
             "#ed7953"
            ],
            [
             0.7777777777777778,
             "#fb9f3a"
            ],
            [
             0.8888888888888888,
             "#fdca26"
            ],
            [
             1,
             "#f0f921"
            ]
           ],
           "sequentialminus": [
            [
             0,
             "#0d0887"
            ],
            [
             0.1111111111111111,
             "#46039f"
            ],
            [
             0.2222222222222222,
             "#7201a8"
            ],
            [
             0.3333333333333333,
             "#9c179e"
            ],
            [
             0.4444444444444444,
             "#bd3786"
            ],
            [
             0.5555555555555556,
             "#d8576b"
            ],
            [
             0.6666666666666666,
             "#ed7953"
            ],
            [
             0.7777777777777778,
             "#fb9f3a"
            ],
            [
             0.8888888888888888,
             "#fdca26"
            ],
            [
             1,
             "#f0f921"
            ]
           ]
          },
          "colorway": [
           "#636efa",
           "#EF553B",
           "#00cc96",
           "#ab63fa",
           "#FFA15A",
           "#19d3f3",
           "#FF6692",
           "#B6E880",
           "#FF97FF",
           "#FECB52"
          ],
          "font": {
           "color": "#2a3f5f"
          },
          "geo": {
           "bgcolor": "white",
           "lakecolor": "white",
           "landcolor": "#E5ECF6",
           "showlakes": true,
           "showland": true,
           "subunitcolor": "white"
          },
          "hoverlabel": {
           "align": "left"
          },
          "hovermode": "closest",
          "mapbox": {
           "style": "light"
          },
          "paper_bgcolor": "white",
          "plot_bgcolor": "#E5ECF6",
          "polar": {
           "angularaxis": {
            "gridcolor": "white",
            "linecolor": "white",
            "ticks": ""
           },
           "bgcolor": "#E5ECF6",
           "radialaxis": {
            "gridcolor": "white",
            "linecolor": "white",
            "ticks": ""
           }
          },
          "scene": {
           "xaxis": {
            "backgroundcolor": "#E5ECF6",
            "gridcolor": "white",
            "gridwidth": 2,
            "linecolor": "white",
            "showbackground": true,
            "ticks": "",
            "zerolinecolor": "white"
           },
           "yaxis": {
            "backgroundcolor": "#E5ECF6",
            "gridcolor": "white",
            "gridwidth": 2,
            "linecolor": "white",
            "showbackground": true,
            "ticks": "",
            "zerolinecolor": "white"
           },
           "zaxis": {
            "backgroundcolor": "#E5ECF6",
            "gridcolor": "white",
            "gridwidth": 2,
            "linecolor": "white",
            "showbackground": true,
            "ticks": "",
            "zerolinecolor": "white"
           }
          },
          "shapedefaults": {
           "line": {
            "color": "#2a3f5f"
           }
          },
          "ternary": {
           "aaxis": {
            "gridcolor": "white",
            "linecolor": "white",
            "ticks": ""
           },
           "baxis": {
            "gridcolor": "white",
            "linecolor": "white",
            "ticks": ""
           },
           "bgcolor": "#E5ECF6",
           "caxis": {
            "gridcolor": "white",
            "linecolor": "white",
            "ticks": ""
           }
          },
          "title": {
           "x": 0.05
          },
          "xaxis": {
           "automargin": true,
           "gridcolor": "white",
           "linecolor": "white",
           "ticks": "",
           "title": {
            "standoff": 15
           },
           "zerolinecolor": "white",
           "zerolinewidth": 2
          },
          "yaxis": {
           "automargin": true,
           "gridcolor": "white",
           "linecolor": "white",
           "ticks": "",
           "title": {
            "standoff": 15
           },
           "zerolinecolor": "white",
           "zerolinewidth": 2
          }
         }
        },
        "title": {
         "text": "Model Loss Over Time"
        },
        "xaxis": {
         "title": {
          "text": "Epoch"
         }
        },
        "yaxis": {
         "title": {
          "text": "Loss"
         }
        }
       }
      }
     },
     "metadata": {},
     "output_type": "display_data"
    }
   ],
   "source": [
    "import plotly.graph_objects as go\n",
    "\n",
    "# Create an interactive plot\n",
    "fig = go.Figure()\n",
    "\n",
    "fig.add_trace(go.Scatter(\n",
    "    y=lossData['loss'],\n",
    "    mode='lines',\n",
    "    name='Loss'\n",
    "))\n",
    "\n",
    "fig.update_layout(\n",
    "    title='Model Loss Over Time',\n",
    "    xaxis_title='Epoch',\n",
    "    yaxis_title='Loss'\n",
    ")\n",
    "\n",
    "# Show the plot\n",
    "fig.show()\n"
   ]
  },
  {
   "cell_type": "code",
   "execution_count": 14,
   "metadata": {},
   "outputs": [
    {
     "data": {
      "text/html": [
       "<div>\n",
       "<style scoped>\n",
       "    .dataframe tbody tr th:only-of-type {\n",
       "        vertical-align: middle;\n",
       "    }\n",
       "\n",
       "    .dataframe tbody tr th {\n",
       "        vertical-align: top;\n",
       "    }\n",
       "\n",
       "    .dataframe thead th {\n",
       "        text-align: right;\n",
       "    }\n",
       "</style>\n",
       "<table border=\"1\" class=\"dataframe\">\n",
       "  <thead>\n",
       "    <tr style=\"text-align: right;\">\n",
       "      <th></th>\n",
       "      <th>p</th>\n",
       "      <th>d</th>\n",
       "      <th>q</th>\n",
       "      <th>loss</th>\n",
       "    </tr>\n",
       "  </thead>\n",
       "  <tbody>\n",
       "    <tr>\n",
       "      <th>105</th>\n",
       "      <td>10</td>\n",
       "      <td>0</td>\n",
       "      <td>5</td>\n",
       "      <td>0.111525</td>\n",
       "    </tr>\n",
       "    <tr>\n",
       "      <th>104</th>\n",
       "      <td>10</td>\n",
       "      <td>0</td>\n",
       "      <td>4</td>\n",
       "      <td>0.112032</td>\n",
       "    </tr>\n",
       "    <tr>\n",
       "      <th>102</th>\n",
       "      <td>10</td>\n",
       "      <td>0</td>\n",
       "      <td>2</td>\n",
       "      <td>0.113733</td>\n",
       "    </tr>\n",
       "    <tr>\n",
       "      <th>133</th>\n",
       "      <td>13</td>\n",
       "      <td>0</td>\n",
       "      <td>3</td>\n",
       "      <td>0.114125</td>\n",
       "    </tr>\n",
       "    <tr>\n",
       "      <th>117</th>\n",
       "      <td>11</td>\n",
       "      <td>0</td>\n",
       "      <td>7</td>\n",
       "      <td>0.114349</td>\n",
       "    </tr>\n",
       "    <tr>\n",
       "      <th>80</th>\n",
       "      <td>8</td>\n",
       "      <td>0</td>\n",
       "      <td>0</td>\n",
       "      <td>0.114449</td>\n",
       "    </tr>\n",
       "    <tr>\n",
       "      <th>120</th>\n",
       "      <td>12</td>\n",
       "      <td>0</td>\n",
       "      <td>0</td>\n",
       "      <td>0.115193</td>\n",
       "    </tr>\n",
       "    <tr>\n",
       "      <th>121</th>\n",
       "      <td>12</td>\n",
       "      <td>0</td>\n",
       "      <td>1</td>\n",
       "      <td>0.115328</td>\n",
       "    </tr>\n",
       "    <tr>\n",
       "      <th>123</th>\n",
       "      <td>12</td>\n",
       "      <td>0</td>\n",
       "      <td>3</td>\n",
       "      <td>0.115934</td>\n",
       "    </tr>\n",
       "    <tr>\n",
       "      <th>100</th>\n",
       "      <td>10</td>\n",
       "      <td>0</td>\n",
       "      <td>0</td>\n",
       "      <td>0.116110</td>\n",
       "    </tr>\n",
       "    <tr>\n",
       "      <th>91</th>\n",
       "      <td>9</td>\n",
       "      <td>0</td>\n",
       "      <td>1</td>\n",
       "      <td>0.116153</td>\n",
       "    </tr>\n",
       "    <tr>\n",
       "      <th>81</th>\n",
       "      <td>8</td>\n",
       "      <td>0</td>\n",
       "      <td>1</td>\n",
       "      <td>0.116395</td>\n",
       "    </tr>\n",
       "    <tr>\n",
       "      <th>82</th>\n",
       "      <td>8</td>\n",
       "      <td>0</td>\n",
       "      <td>2</td>\n",
       "      <td>0.116570</td>\n",
       "    </tr>\n",
       "    <tr>\n",
       "      <th>122</th>\n",
       "      <td>12</td>\n",
       "      <td>0</td>\n",
       "      <td>2</td>\n",
       "      <td>0.116575</td>\n",
       "    </tr>\n",
       "    <tr>\n",
       "      <th>93</th>\n",
       "      <td>9</td>\n",
       "      <td>0</td>\n",
       "      <td>3</td>\n",
       "      <td>0.116689</td>\n",
       "    </tr>\n",
       "    <tr>\n",
       "      <th>92</th>\n",
       "      <td>9</td>\n",
       "      <td>0</td>\n",
       "      <td>2</td>\n",
       "      <td>0.116708</td>\n",
       "    </tr>\n",
       "    <tr>\n",
       "      <th>110</th>\n",
       "      <td>11</td>\n",
       "      <td>0</td>\n",
       "      <td>0</td>\n",
       "      <td>0.116736</td>\n",
       "    </tr>\n",
       "    <tr>\n",
       "      <th>112</th>\n",
       "      <td>11</td>\n",
       "      <td>0</td>\n",
       "      <td>2</td>\n",
       "      <td>0.116860</td>\n",
       "    </tr>\n",
       "    <tr>\n",
       "      <th>111</th>\n",
       "      <td>11</td>\n",
       "      <td>0</td>\n",
       "      <td>1</td>\n",
       "      <td>0.116878</td>\n",
       "    </tr>\n",
       "    <tr>\n",
       "      <th>101</th>\n",
       "      <td>10</td>\n",
       "      <td>0</td>\n",
       "      <td>1</td>\n",
       "      <td>0.117117</td>\n",
       "    </tr>\n",
       "  </tbody>\n",
       "</table>\n",
       "</div>"
      ],
      "text/plain": [
       "      p  d  q      loss\n",
       "105  10  0  5  0.111525\n",
       "104  10  0  4  0.112032\n",
       "102  10  0  2  0.113733\n",
       "133  13  0  3  0.114125\n",
       "117  11  0  7  0.114349\n",
       "80    8  0  0  0.114449\n",
       "120  12  0  0  0.115193\n",
       "121  12  0  1  0.115328\n",
       "123  12  0  3  0.115934\n",
       "100  10  0  0  0.116110\n",
       "91    9  0  1  0.116153\n",
       "81    8  0  1  0.116395\n",
       "82    8  0  2  0.116570\n",
       "122  12  0  2  0.116575\n",
       "93    9  0  3  0.116689\n",
       "92    9  0  2  0.116708\n",
       "110  11  0  0  0.116736\n",
       "112  11  0  2  0.116860\n",
       "111  11  0  1  0.116878\n",
       "101  10  0  1  0.117117"
      ]
     },
     "execution_count": 14,
     "metadata": {},
     "output_type": "execute_result"
    }
   ],
   "source": [
    "lossData.sort_values(by='loss').head(20)"
   ]
  },
  {
   "cell_type": "code",
   "execution_count": 16,
   "metadata": {},
   "outputs": [
    {
     "name": "stderr",
     "output_type": "stream",
     "text": [
      "/Users/sabinhashmi/miniconda3/envs/box/lib/python3.12/site-packages/statsmodels/base/model.py:607: ConvergenceWarning:\n",
      "\n",
      "Maximum Likelihood optimization failed to converge. Check mle_retvals\n",
      "\n"
     ]
    },
    {
     "data": {
      "text/plain": [
       "[<matplotlib.lines.Line2D at 0x1375652e0>]"
      ]
     },
     "execution_count": 16,
     "metadata": {},
     "output_type": "execute_result"
    },
    {
     "data": {
      "image/png": "[encoded data removed]",
      "text/plain": [
       "<Figure size 1500x500 with 1 Axes>"
      ]
     },
     "metadata": {},
     "output_type": "display_data"
    }
   ],
   "source": [
    "model = ARIMA(train['utax_scaled'], order=(10,0,5))  # Example order, typically chosen through model selection criteria\n",
    "model_fit = model.fit()\n",
    "\n",
    "# Summary of the model\n",
    "# print(model_fit.summary())\n",
    "forecast = model_fit.forecast(steps=20)  # Forecasting next 12 periods (1 year)\n",
    "# print(forecast)\n",
    "\n",
    "plt.plot(train['utax_scaled'])\n",
    "plt.plot(test['utax_scaled'])\n",
    "plt.plot(forecast)\n"
   ]
  },
  {
   "cell_type": "code",
   "execution_count": 13,
   "metadata": {},
   "outputs": [],
   "source": [
    "# vals=[]\n",
    "# for i in run_list:\n",
    "#     vals_=mix[i,'PedestalValue']\n",
    "#     vals.append(vals_.values)\n",
    "    \n",
    "# all_pedestals=(pd.DataFrame(vals).T)\n",
    "# data=all_pedestals.values.flatten()\n",
    "# plt.plot(np.random.choice(data, size=500, replace=False))"
   ]
  },
  {
   "cell_type": "code",
   "execution_count": null,
   "metadata": {},
   "outputs": [],
   "source": []
  },
  {
   "cell_type": "code",
   "execution_count": null,
   "metadata": {},
   "outputs": [],
   "source": []
  }
 ],
 "metadata": {
  "kernelspec": {
   "display_name": "box",
   "language": "python",
   "name": "python3"
  },
  "language_info": {
   "codemirror_mode": {
    "name": "ipython",
    "version": 3
   },
   "file_extension": ".py",
   "mimetype": "text/x-python",
   "name": "python",
   "nbconvert_exporter": "python",
   "pygments_lexer": "ipython3",
   "version": "3.12.2"
  }
 },
 "nbformat": 4,
 "nbformat_minor": 2
}
